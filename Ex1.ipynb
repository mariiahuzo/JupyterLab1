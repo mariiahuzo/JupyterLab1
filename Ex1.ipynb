{
 "cells": [
  {
   "cell_type": "code",
   "execution_count": 1,
   "id": "ac312778",
   "metadata": {},
   "outputs": [
    {
     "ename": "SyntaxError",
     "evalue": "invalid syntax (2987752187.py, line 2)",
     "output_type": "error",
     "traceback": [
      "\u001b[0;36m  File \u001b[0;32m\"/tmp/ipykernel_20111/2987752187.py\"\u001b[0;36m, line \u001b[0;32m2\u001b[0m\n\u001b[0;31m    Ahora es tu turno de probar la conversión de int a str. Realiza las siguientes tareas:\u001b[0m\n\u001b[0m          ^\u001b[0m\n\u001b[0;31mSyntaxError\u001b[0m\u001b[0;31m:\u001b[0m invalid syntax\n"
     ]
    }
   ],
   "source": [
    "Ejercicio\n",
    "Ahora es tu turno de probar la conversión de int a str. Realiza las siguientes tareas:\n",
    "\n",
    "Crea una variable edad y asígnale tu edad como un entero.\n",
    "Convierte la variable edad a un string utilizando la función str().\n",
    "Concatena la cadena \"Mi edad es: \" con la variable edad (ahora una cadena) y almacena el resultado en una nueva variable llamada mensaje.\n",
    "Imprime la variable mensaje en la consola.\n",
    "A continuación, te dejo un esquema básico que puedes utilizar:\n",
    "    "
   ]
  },
  {
   "cell_type": "code",
   "execution_count": 13,
   "id": "b68fff79",
   "metadata": {},
   "outputs": [],
   "source": [
    "edad = 32"
   ]
  },
  {
   "cell_type": "code",
   "execution_count": 14,
   "id": "483c1760",
   "metadata": {},
   "outputs": [
    {
     "data": {
      "text/plain": [
       "'32'"
      ]
     },
     "execution_count": 14,
     "metadata": {},
     "output_type": "execute_result"
    }
   ],
   "source": [
    "str(edad)"
   ]
  },
  {
   "cell_type": "code",
   "execution_count": 16,
   "id": "79a68744",
   "metadata": {},
   "outputs": [],
   "source": [
    "mensaje = \"Mi edad es: \"+ str(edad)"
   ]
  },
  {
   "cell_type": "code",
   "execution_count": 17,
   "id": "3c7f14fa",
   "metadata": {},
   "outputs": [
    {
     "name": "stdout",
     "output_type": "stream",
     "text": [
      "Mi edad es: 32\n"
     ]
    }
   ],
   "source": [
    "print(mensaje)"
   ]
  },
  {
   "cell_type": "code",
   "execution_count": null,
   "id": "e134f2c1",
   "metadata": {},
   "outputs": [],
   "source": []
  }
 ],
 "metadata": {
  "kernelspec": {
   "display_name": "Python 3 (ipykernel)",
   "language": "python",
   "name": "python3"
  },
  "language_info": {
   "codemirror_mode": {
    "name": "ipython",
    "version": 3
   },
   "file_extension": ".py",
   "mimetype": "text/x-python",
   "name": "python",
   "nbconvert_exporter": "python",
   "pygments_lexer": "ipython3",
   "version": "3.10.12"
  }
 },
 "nbformat": 4,
 "nbformat_minor": 5
}
