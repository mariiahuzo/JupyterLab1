{
 "cells": [
  {
   "cell_type": "markdown",
   "id": "64c470cc",
   "metadata": {},
   "source": [
    "Ejercicio: Trabajando con Listas\n",
    "\n",
    "Crea una lista llamada meses que contenga los nombres de todos los meses del año.\n",
    "\n",
    "-Utiliza el método append para añadir un elemento extra en la lista que sea \"Fin de año\".\n",
    "-Utiliza el método remove para eliminar este último elemento que has añadido.\n",
    "-Usando slicing, crea una nueva lista que contenga solo los meses del segundo trimestre (abril, mayo y junio).\n",
    "-Usa el método reverse para invertir el orden de los elementos en la lista original de meses.\n",
    "-Encuentra el método apropiado para ordenar la lista de meses en orden alfabético y aplícalo.\n",
    "-Utiliza el método index para encontrar la posición de tu mes de nacimiento en la lista ordenada alfabéticamente.\n"
   ]
  },
  {
   "cell_type": "code",
   "execution_count": 1,
   "id": "fd188fb2",
   "metadata": {},
   "outputs": [],
   "source": [
    "meses=[\"enero\", \"febrero\", \"marzo\", \"abril\", \"mayo\", \"junio\", \"julio\", \"agosto\", \"septiembre\", \"octubre\", \"noviembre\", \"diciembre\"]"
   ]
  },
  {
   "cell_type": "code",
   "execution_count": 4,
   "id": "75d2b90a",
   "metadata": {},
   "outputs": [],
   "source": [
    "meses.append(\"Fin de año\")"
   ]
  },
  {
   "cell_type": "code",
   "execution_count": 5,
   "id": "f7aa0844",
   "metadata": {},
   "outputs": [
    {
     "name": "stdout",
     "output_type": "stream",
     "text": [
      "['enero', 'febrero', 'marzo', 'abril', 'mayo', 'junio', 'julio', 'agosto', 'septiembre', 'octubre', 'noviembre', 'diciembre', -1, 'Fin de año']\n"
     ]
    }
   ],
   "source": [
    "print(meses)"
   ]
  },
  {
   "cell_type": "code",
   "execution_count": 6,
   "id": "c321f837",
   "metadata": {},
   "outputs": [
    {
     "ename": "TypeError",
     "evalue": "'builtin_function_or_method' object is not subscriptable",
     "output_type": "error",
     "traceback": [
      "\u001b[0;31m---------------------------------------------------------------------------\u001b[0m",
      "\u001b[0;31mTypeError\u001b[0m                                 Traceback (most recent call last)",
      "\u001b[0;32m/tmp/ipykernel_53491/1870216444.py\u001b[0m in \u001b[0;36m<module>\u001b[0;34m\u001b[0m\n\u001b[0;32m----> 1\u001b[0;31m \u001b[0mmeses\u001b[0m\u001b[0;34m.\u001b[0m\u001b[0mremove\u001b[0m\u001b[0;34m[\u001b[0m\u001b[0;34m-\u001b[0m\u001b[0;36m2\u001b[0m\u001b[0;34m]\u001b[0m\u001b[0;34m\u001b[0m\u001b[0;34m\u001b[0m\u001b[0m\n\u001b[0m",
      "\u001b[0;31mTypeError\u001b[0m: 'builtin_function_or_method' object is not subscriptable"
     ]
    }
   ],
   "source": [
    "meses.remove[-2]"
   ]
  },
  {
   "cell_type": "code",
   "execution_count": 7,
   "id": "aabdcefd",
   "metadata": {},
   "outputs": [],
   "source": [
    "meses.remove(-1)"
   ]
  },
  {
   "cell_type": "code",
   "execution_count": 8,
   "id": "c5e70925",
   "metadata": {},
   "outputs": [
    {
     "name": "stdout",
     "output_type": "stream",
     "text": [
      "['enero', 'febrero', 'marzo', 'abril', 'mayo', 'junio', 'julio', 'agosto', 'septiembre', 'octubre', 'noviembre', 'diciembre', 'Fin de año']\n"
     ]
    }
   ],
   "source": [
    "print(meses)"
   ]
  },
  {
   "cell_type": "code",
   "execution_count": 9,
   "id": "3e2a230d",
   "metadata": {},
   "outputs": [],
   "source": [
    "meses.remove('Fin de año')"
   ]
  },
  {
   "cell_type": "code",
   "execution_count": 10,
   "id": "5f83ba7c",
   "metadata": {},
   "outputs": [
    {
     "name": "stdout",
     "output_type": "stream",
     "text": [
      "['enero', 'febrero', 'marzo', 'abril', 'mayo', 'junio', 'julio', 'agosto', 'septiembre', 'octubre', 'noviembre', 'diciembre']\n"
     ]
    }
   ],
   "source": [
    "print(meses)"
   ]
  },
  {
   "cell_type": "code",
   "execution_count": 11,
   "id": "dcfae68e",
   "metadata": {},
   "outputs": [],
   "source": [
    "lista1 = meses.copy()"
   ]
  },
  {
   "cell_type": "code",
   "execution_count": 19,
   "id": "d517abbe",
   "metadata": {},
   "outputs": [],
   "source": [
    "meses2q= lista1[3:6:1]"
   ]
  },
  {
   "cell_type": "code",
   "execution_count": 20,
   "id": "333cbce6",
   "metadata": {},
   "outputs": [
    {
     "name": "stdout",
     "output_type": "stream",
     "text": [
      "['abril', 'mayo', 'junio']\n"
     ]
    }
   ],
   "source": [
    "print(meses2q)"
   ]
  },
  {
   "cell_type": "code",
   "execution_count": 21,
   "id": "ad786962",
   "metadata": {},
   "outputs": [],
   "source": [
    "meses2q.reverse()"
   ]
  },
  {
   "cell_type": "code",
   "execution_count": 22,
   "id": "d25d5d4f",
   "metadata": {},
   "outputs": [
    {
     "name": "stdout",
     "output_type": "stream",
     "text": [
      "['junio', 'mayo', 'abril']\n"
     ]
    }
   ],
   "source": [
    "print(meses2q)"
   ]
  },
  {
   "cell_type": "code",
   "execution_count": 23,
   "id": "e6449905",
   "metadata": {},
   "outputs": [
    {
     "name": "stdout",
     "output_type": "stream",
     "text": [
      "['enero', 'febrero', 'marzo', 'abril', 'mayo', 'junio', 'julio', 'agosto', 'septiembre', 'octubre', 'noviembre', 'diciembre']\n"
     ]
    }
   ],
   "source": [
    "print(lista1)"
   ]
  },
  {
   "cell_type": "code",
   "execution_count": 24,
   "id": "778c3d98",
   "metadata": {},
   "outputs": [],
   "source": [
    "lista1.reverse()"
   ]
  },
  {
   "cell_type": "code",
   "execution_count": 25,
   "id": "4411781a",
   "metadata": {},
   "outputs": [
    {
     "name": "stdout",
     "output_type": "stream",
     "text": [
      "['diciembre', 'noviembre', 'octubre', 'septiembre', 'agosto', 'julio', 'junio', 'mayo', 'abril', 'marzo', 'febrero', 'enero']\n"
     ]
    }
   ],
   "source": [
    "print(lista1)"
   ]
  },
  {
   "cell_type": "code",
   "execution_count": 26,
   "id": "31fa055f",
   "metadata": {},
   "outputs": [],
   "source": [
    "lista1.sort()"
   ]
  },
  {
   "cell_type": "code",
   "execution_count": 27,
   "id": "2ef5bc0f",
   "metadata": {},
   "outputs": [
    {
     "name": "stdout",
     "output_type": "stream",
     "text": [
      "['abril', 'agosto', 'diciembre', 'enero', 'febrero', 'julio', 'junio', 'marzo', 'mayo', 'noviembre', 'octubre', 'septiembre']\n"
     ]
    }
   ],
   "source": [
    "print(lista1)"
   ]
  },
  {
   "cell_type": "code",
   "execution_count": 28,
   "id": "e755538d",
   "metadata": {},
   "outputs": [
    {
     "data": {
      "text/plain": [
       "5"
      ]
     },
     "execution_count": 28,
     "metadata": {},
     "output_type": "execute_result"
    }
   ],
   "source": [
    "lista1.index(\"julio\")"
   ]
  },
  {
   "cell_type": "code",
   "execution_count": 38,
   "id": "4937c514",
   "metadata": {},
   "outputs": [],
   "source": [
    "myList = []"
   ]
  },
  {
   "cell_type": "code",
   "execution_count": 39,
   "id": "02c08c62",
   "metadata": {},
   "outputs": [
    {
     "name": "stdout",
     "output_type": "stream",
     "text": [
      "['enero', 'febrero', 'marzo', 'abril', 'mayo', 'junio', 'julio']\n"
     ]
    }
   ],
   "source": [
    "print(newList)"
   ]
  },
  {
   "cell_type": "code",
   "execution_count": null,
   "id": "ca3c0754",
   "metadata": {},
   "outputs": [],
   "source": []
  }
 ],
 "metadata": {
  "kernelspec": {
   "display_name": "Python 3 (ipykernel)",
   "language": "python",
   "name": "python3"
  },
  "language_info": {
   "codemirror_mode": {
    "name": "ipython",
    "version": 3
   },
   "file_extension": ".py",
   "mimetype": "text/x-python",
   "name": "python",
   "nbconvert_exporter": "python",
   "pygments_lexer": "ipython3",
   "version": "3.10.12"
  }
 },
 "nbformat": 4,
 "nbformat_minor": 5
}
