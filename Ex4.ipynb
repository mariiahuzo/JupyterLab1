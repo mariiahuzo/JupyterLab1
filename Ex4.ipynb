{
 "cells": [
  {
   "cell_type": "code",
   "execution_count": 57,
   "id": "a22da228",
   "metadata": {},
   "outputs": [],
   "source": [
    "inventario = {\n",
    "    \"telefono\": [25, 400.00],\n",
    "    \"ordenador\": [10, 900.00]\n",
    "}"
   ]
  },
  {
   "cell_type": "code",
   "execution_count": 58,
   "id": "65aa9d76",
   "metadata": {},
   "outputs": [
    {
     "name": "stdout",
     "output_type": "stream",
     "text": [
      "Por favor, introduce el nombre del producto: telefono\n",
      "Por favor, introduce la cantidad de unidades vendidas: 10\n"
     ]
    }
   ],
   "source": [
    "#Usa la función input() para solicitar al usuario que introduzca \n",
    "#el nombre de un producto, la cantidad de unidades vendidas y \n",
    "#el precio de venta. Utiliza un metodo string para el input().\n",
    "\n",
    "nombre_producto = (input(\"Por favor, introduce el nombre del producto: \"))\n",
    "cantidad_vendida = int(input(\"Por favor, introduce la cantidad de unidades vendidas: \"))"
   ]
  },
  {
   "cell_type": "code",
   "execution_count": 53,
   "id": "5857ba07",
   "metadata": {},
   "outputs": [],
   "source": [
    "precio_venta = inventario[nombre_producto][1]"
   ]
  },
  {
   "cell_type": "code",
   "execution_count": 54,
   "id": "1301a5a2",
   "metadata": {},
   "outputs": [
    {
     "name": "stdout",
     "output_type": "stream",
     "text": [
      "400.0\n"
     ]
    }
   ],
   "source": [
    "print(precio_venta)"
   ]
  },
  {
   "cell_type": "code",
   "execution_count": 59,
   "id": "8ed9068f",
   "metadata": {},
   "outputs": [
    {
     "name": "stdout",
     "output_type": "stream",
     "text": [
      "25\n"
     ]
    }
   ],
   "source": [
    "print(inventario[nombre_producto][0])"
   ]
  },
  {
   "cell_type": "code",
   "execution_count": 60,
   "id": "359ec78d",
   "metadata": {},
   "outputs": [],
   "source": [
    "inventario[nombre_producto][0] = inventario[nombre_producto][0] - cantidad_vendida"
   ]
  },
  {
   "cell_type": "code",
   "execution_count": 61,
   "id": "33374a43",
   "metadata": {},
   "outputs": [],
   "source": [
    "ingresos_venta = cantidad_vendida * precio_venta"
   ]
  },
  {
   "cell_type": "code",
   "execution_count": 63,
   "id": "92566351",
   "metadata": {},
   "outputs": [],
   "source": [
    "recibo = f\"\"\"\n",
    "Recibo de Venta\n",
    "Producto: {nombre_producto}\n",
    "Cantidad Vendida: {cantidad_vendida}\n",
    "Precio por Unidad: €{precio_venta:.2f}\n",
    "Total Venta: €{ingresos_venta:.2f}\n",
    "\"\"\""
   ]
  },
  {
   "cell_type": "code",
   "execution_count": 64,
   "id": "db7bdc69",
   "metadata": {},
   "outputs": [
    {
     "name": "stdout",
     "output_type": "stream",
     "text": [
      "\n",
      "Recibo de Venta\n",
      "Producto: telefono\n",
      "Cantidad Vendida: 10\n",
      "Precio por Unidad: €400.00\n",
      "Total Venta: €4000.00\n",
      "\n"
     ]
    }
   ],
   "source": [
    "print(recibo)"
   ]
  },
  {
   "cell_type": "code",
   "execution_count": null,
   "id": "aae49361",
   "metadata": {},
   "outputs": [],
   "source": []
  }
 ],
 "metadata": {
  "kernelspec": {
   "display_name": "Python 3 (ipykernel)",
   "language": "python",
   "name": "python3"
  },
  "language_info": {
   "codemirror_mode": {
    "name": "ipython",
    "version": 3
   },
   "file_extension": ".py",
   "mimetype": "text/x-python",
   "name": "python",
   "nbconvert_exporter": "python",
   "pygments_lexer": "ipython3",
   "version": "3.10.12"
  }
 },
 "nbformat": 4,
 "nbformat_minor": 5
}
