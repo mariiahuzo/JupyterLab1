{
 "cells": [
  {
   "cell_type": "code",
   "execution_count": 7,
   "id": "d53ba05f",
   "metadata": {},
   "outputs": [
    {
     "name": "stdout",
     "output_type": "stream",
     "text": [
      "Enter your age 32\n"
     ]
    }
   ],
   "source": [
    "age = str(input(\"Enter your age \"))"
   ]
  },
  {
   "cell_type": "code",
   "execution_count": 2,
   "id": "5b63210f",
   "metadata": {},
   "outputs": [
    {
     "name": "stdout",
     "output_type": "stream",
     "text": [
      "Enter your username Mariia\n"
     ]
    }
   ],
   "source": [
    "username = input(\"Enter your username \")"
   ]
  },
  {
   "cell_type": "code",
   "execution_count": 3,
   "id": "66166cd0",
   "metadata": {},
   "outputs": [
    {
     "name": "stdout",
     "output_type": "stream",
     "text": [
      "Mariia\n"
     ]
    }
   ],
   "source": [
    "print(username)"
   ]
  },
  {
   "cell_type": "code",
   "execution_count": 4,
   "id": "b69837f0",
   "metadata": {},
   "outputs": [
    {
     "name": "stdout",
     "output_type": "stream",
     "text": [
      "32\n"
     ]
    }
   ],
   "source": [
    "print(age)"
   ]
  },
  {
   "cell_type": "code",
   "execution_count": 11,
   "id": "9a6fff88",
   "metadata": {},
   "outputs": [],
   "source": [
    "greeting = \"Hello\", username, \"with age \", age"
   ]
  },
  {
   "cell_type": "code",
   "execution_count": 9,
   "id": "426a4085",
   "metadata": {},
   "outputs": [
    {
     "name": "stdout",
     "output_type": "stream",
     "text": [
      "('Hello', 'Mariia', 'with age ', '32')\n"
     ]
    }
   ],
   "source": [
    "print(greeting)"
   ]
  },
  {
   "cell_type": "code",
   "execution_count": 12,
   "id": "27bfcc5a",
   "metadata": {},
   "outputs": [],
   "source": [
    "greeting1 = \"Hello {} with age {}\".format(username, age)"
   ]
  },
  {
   "cell_type": "code",
   "execution_count": 13,
   "id": "601f6d21",
   "metadata": {},
   "outputs": [
    {
     "name": "stdout",
     "output_type": "stream",
     "text": [
      "Hello Mariia with age 32\n"
     ]
    }
   ],
   "source": [
    "print(greeting1)"
   ]
  },
  {
   "cell_type": "code",
   "execution_count": null,
   "id": "9a5093aa",
   "metadata": {},
   "outputs": [],
   "source": []
  }
 ],
 "metadata": {
  "kernelspec": {
   "display_name": "Python 3 (ipykernel)",
   "language": "python",
   "name": "python3"
  },
  "language_info": {
   "codemirror_mode": {
    "name": "ipython",
    "version": 3
   },
   "file_extension": ".py",
   "mimetype": "text/x-python",
   "name": "python",
   "nbconvert_exporter": "python",
   "pygments_lexer": "ipython3",
   "version": "3.10.12"
  }
 },
 "nbformat": 4,
 "nbformat_minor": 5
}
